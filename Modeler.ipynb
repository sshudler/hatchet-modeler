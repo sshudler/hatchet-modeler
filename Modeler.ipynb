{
 "cells": [
  {
   "cell_type": "code",
   "execution_count": 2,
   "id": "9bb7fcb4",
   "metadata": {},
   "outputs": [],
   "source": [
    "import hatchet as ht\n",
    "import pandas as pd\n",
    "import matplotlib.pyplot as plt\n",
    "import numpy as np\n",
    "import glob\n",
    "import re"
   ]
  },
  {
   "cell_type": "code",
   "execution_count": 3,
   "id": "30371b5c",
   "metadata": {},
   "outputs": [],
   "source": [
    "datasets = glob.glob('perf_data/out_*.json')\n",
    "datasets.sort()"
   ]
  },
  {
   "cell_type": "code",
   "execution_count": 4,
   "id": "42ef4691",
   "metadata": {},
   "outputs": [],
   "source": [
    "dataframes = []\n",
    "for dataset in datasets:\n",
    "    gf = ht.GraphFrame.from_caliper_json(dataset)\n",
    "    gf.drop_index_levels(np.max)\n",
    "    n_sz = re.match('(.*)_(.*)_(\\d+)(.*)', dataset).group(3)\n",
    "    gf.dataframe['nsz'] = n_sz\n",
    "    dataframes.append(gf.dataframe)\n"
   ]
  },
  {
   "cell_type": "code",
   "execution_count": 5,
   "id": "7487065e",
   "metadata": {},
   "outputs": [],
   "source": [
    "result = pd.concat(dataframes)"
   ]
  },
  {
   "cell_type": "code",
   "execution_count": 6,
   "id": "666eab2b",
   "metadata": {},
   "outputs": [],
   "source": [
    "pivot_df = result.pivot(index='nsz', columns='name', values='time')"
   ]
  },
  {
   "cell_type": "code",
   "execution_count": 7,
   "id": "38d9efb1",
   "metadata": {},
   "outputs": [
    {
     "data": {
      "text/plain": [
       "<AxesSubplot:xlabel='nsz'>"
      ]
     },
     "execution_count": 7,
     "metadata": {},
     "output_type": "execute_result"
    },
    {
     "data": {
      "image/png": "[encoded data removed]",
      "text/plain": [
       "<Figure size 720x504 with 1 Axes>"
      ]
     },
     "metadata": {
      "needs_background": "light"
     },
     "output_type": "display_data"
    }
   ],
   "source": [
    "pivot_df.loc[:,:].plot.bar(stacked=True, figsize=(10,7))"
   ]
  },
  {
   "cell_type": "code",
   "execution_count": 8,
   "id": "acfc1408",
   "metadata": {},
   "outputs": [],
   "source": [
    "from extrap.entities.experiment import Experiment\n",
    "from extrap.entities.callpath import Callpath\n",
    "from extrap.entities.metric import Metric\n",
    "from extrap.entities.parameter import Parameter\n",
    "from extrap.entities.coordinate import Coordinate\n",
    "from extrap.entities.measurement import Measurement\n",
    "from extrap.fileio import io_helper\n",
    "\n",
    "from extrap.modelers.model_generator import ModelGenerator"
   ]
  },
  {
   "cell_type": "code",
   "execution_count": 9,
   "id": "5ab5f0c5",
   "metadata": {},
   "outputs": [
    {
     "data": {
      "text/html": [
       "<div>\n",
       "<style scoped>\n",
       "    .dataframe tbody tr th:only-of-type {\n",
       "        vertical-align: middle;\n",
       "    }\n",
       "\n",
       "    .dataframe tbody tr th {\n",
       "        vertical-align: top;\n",
       "    }\n",
       "\n",
       "    .dataframe thead th {\n",
       "        text-align: right;\n",
       "    }\n",
       "</style>\n",
       "<table border=\"1\" class=\"dataframe\">\n",
       "  <thead>\n",
       "    <tr style=\"text-align: right;\">\n",
       "      <th>name</th>\n",
       "      <th>init</th>\n",
       "      <th>main</th>\n",
       "      <th>sort_arr</th>\n",
       "    </tr>\n",
       "    <tr>\n",
       "      <th>nsz</th>\n",
       "      <th></th>\n",
       "      <th></th>\n",
       "      <th></th>\n",
       "    </tr>\n",
       "  </thead>\n",
       "  <tbody>\n",
       "    <tr>\n",
       "      <th>1</th>\n",
       "      <td>0.015630</td>\n",
       "      <td>0.022853</td>\n",
       "      <td>0.068065</td>\n",
       "    </tr>\n",
       "    <tr>\n",
       "      <th>2</th>\n",
       "      <td>0.031240</td>\n",
       "      <td>0.043735</td>\n",
       "      <td>0.139912</td>\n",
       "    </tr>\n",
       "    <tr>\n",
       "      <th>3</th>\n",
       "      <td>0.047702</td>\n",
       "      <td>0.062297</td>\n",
       "      <td>0.215054</td>\n",
       "    </tr>\n",
       "    <tr>\n",
       "      <th>4</th>\n",
       "      <td>0.062506</td>\n",
       "      <td>0.083707</td>\n",
       "      <td>0.293924</td>\n",
       "    </tr>\n",
       "    <tr>\n",
       "      <th>5</th>\n",
       "      <td>0.077361</td>\n",
       "      <td>0.104749</td>\n",
       "      <td>0.374521</td>\n",
       "    </tr>\n",
       "  </tbody>\n",
       "</table>\n",
       "</div>"
      ],
      "text/plain": [
       "name      init      main  sort_arr\n",
       "nsz                               \n",
       "1     0.015630  0.022853  0.068065\n",
       "2     0.031240  0.043735  0.139912\n",
       "3     0.047702  0.062297  0.215054\n",
       "4     0.062506  0.083707  0.293924\n",
       "5     0.077361  0.104749  0.374521"
      ]
     },
     "execution_count": 9,
     "metadata": {},
     "output_type": "execute_result"
    }
   ],
   "source": [
    "pivot_df.head()"
   ]
  },
  {
   "cell_type": "code",
   "execution_count": 10,
   "id": "4ca0cc63",
   "metadata": {},
   "outputs": [],
   "source": [
    "ex = Experiment()\n",
    "cpath = Callpath('sort_arr')\n",
    "ex.add_callpath(cpath)\n",
    "ex.add_parameter(Parameter('nsz'))\n",
    "met = Metric('time')\n",
    "ex.add_metric(met)\n",
    "ex.call_tree = io_helper.create_call_tree(ex.callpaths)"
   ]
  },
  {
   "cell_type": "code",
   "execution_count": 11,
   "id": "a95ee1d5",
   "metadata": {},
   "outputs": [],
   "source": [
    "coordinates = [Coordinate(float(v)) for v in list(pivot_df.index)]\n",
    "ex.coordinates.extend(coordinates)"
   ]
  },
  {
   "cell_type": "code",
   "execution_count": 12,
   "id": "21a1628b",
   "metadata": {},
   "outputs": [],
   "source": [
    "for i in range(0, len(pivot_df.index)):\n",
    "    m = Measurement(ex.coordinates[i], cpath, met, [pivot_df['sort_arr'][pivot_df.index[i]]])\n",
    "    ex.add_measurement(m)"
   ]
  },
  {
   "cell_type": "code",
   "execution_count": 13,
   "id": "cc87fe33",
   "metadata": {},
   "outputs": [],
   "source": [
    "io_helper.validate_experiment(ex)"
   ]
  },
  {
   "cell_type": "code",
   "execution_count": 14,
   "id": "d8edd133",
   "metadata": {},
   "outputs": [],
   "source": [
    "model_gen = ModelGenerator(ex)\n",
    "model_gen.model_all()"
   ]
  },
  {
   "cell_type": "code",
   "execution_count": 15,
   "id": "c50b6d35",
   "metadata": {},
   "outputs": [],
   "source": [
    "# key = (Callpath('sort_arr'), Metric('time'))\n",
    "key = (cpath, met)"
   ]
  },
  {
   "cell_type": "code",
   "execution_count": 16,
   "id": "d6dbe26b",
   "metadata": {},
   "outputs": [
    {
     "data": {
      "text/plain": [
       "Hypothesis(0.06776197967770152 + 0.04503396364483866 * p^(2/3) * log2(p)^(1), RSS:0.000012, SMAPE:0.880746)"
      ]
     },
     "execution_count": 16,
     "metadata": {},
     "output_type": "execute_result"
    }
   ],
   "source": [
    "model_gen.models[key].hypothesis"
   ]
  },
  {
   "cell_type": "code",
   "execution_count": 17,
   "id": "e037ab6d",
   "metadata": {},
   "outputs": [
    {
     "data": {
      "text/plain": [
       "Function(0.06776197967770152 + 0.04503396364483866 * p^(2/3) * log2(p)^(1))"
      ]
     },
     "execution_count": 17,
     "metadata": {},
     "output_type": "execute_result"
    }
   ],
   "source": [
    "model_gen.models[key].hypothesis.function"
   ]
  },
  {
   "cell_type": "code",
   "execution_count": 18,
   "id": "ba023a5c",
   "metadata": {},
   "outputs": [],
   "source": [
    "# model_gen.models[key].hypothesis.function.evaluate(1)\n",
    "# model_gen.models[key].hypothesis.function.evaluate(1.05)"
   ]
  },
  {
   "cell_type": "code",
   "execution_count": 19,
   "id": "4326b929",
   "metadata": {},
   "outputs": [
    {
     "data": {
      "text/plain": [
       "(1.0, 5.0, 0.068065, 0.374521)"
      ]
     },
     "execution_count": 19,
     "metadata": {},
     "output_type": "execute_result"
    }
   ],
   "source": [
    "min_y = pivot_df['sort_arr'][pivot_df.index[0]]\n",
    "max_y = pivot_df['sort_arr'][pivot_df.index[-1]]\n",
    "\n",
    "min_x = coordinates[0][0]\n",
    "max_x = coordinates[-1][0]\n",
    "\n",
    "min_x, max_x, min_y, max_y"
   ]
  },
  {
   "cell_type": "code",
   "execution_count": 20,
   "id": "9b73f526",
   "metadata": {},
   "outputs": [],
   "source": [
    "x_vals = np.arange(min_x, 1.5*max_x, (max_x - min_x) / 100.0)"
   ]
  },
  {
   "cell_type": "code",
   "execution_count": 21,
   "id": "45b81fd4",
   "metadata": {},
   "outputs": [],
   "source": [
    "y_vals = [model_gen.models[key].hypothesis.function.evaluate(x) for x in x_vals]"
   ]
  },
  {
   "cell_type": "code",
   "execution_count": 22,
   "id": "44fec9d0",
   "metadata": {},
   "outputs": [
    {
     "data": {
      "text/plain": [
       "[<matplotlib.lines.Line2D at 0x12398b4f0>]"
      ]
     },
     "execution_count": 22,
     "metadata": {},
     "output_type": "execute_result"
    },
    {
     "data": {
      "image/png": "[encoded data removed]",
      "text/plain": [
       "<Figure size 432x288 with 1 Axes>"
      ]
     },
     "metadata": {
      "needs_background": "light"
     },
     "output_type": "display_data"
    }
   ],
   "source": [
    "plt.plot(x_vals, y_vals)"
   ]
  },
  {
   "cell_type": "code",
   "execution_count": 23,
   "id": "4d1bfa78",
   "metadata": {},
   "outputs": [],
   "source": [
    "plt.show()"
   ]
  },
  {
   "cell_type": "code",
   "execution_count": 24,
   "id": "74a47644",
   "metadata": {},
   "outputs": [],
   "source": [
    "vals = [pivot_df['sort_arr'][pivot_df.index[i]] for i in range(0, len(pivot_df.index))]"
   ]
  },
  {
   "cell_type": "code",
   "execution_count": 25,
   "id": "7c34ebfb",
   "metadata": {},
   "outputs": [],
   "source": [
    "dpts = [float(x) for x in list(pivot_df.index)]"
   ]
  },
  {
   "cell_type": "code",
   "execution_count": 26,
   "id": "613d2d0a",
   "metadata": {},
   "outputs": [
    {
     "data": {
      "text/plain": [
       "<matplotlib.legend.Legend at 0x1239cc190>"
      ]
     },
     "execution_count": 26,
     "metadata": {},
     "output_type": "execute_result"
    },
    {
     "data": {
      "image/png": "[encoded data removed]",
      "text/plain": [
       "<Figure size 432x288 with 1 Axes>"
      ]
     },
     "metadata": {
      "needs_background": "light"
     },
     "output_type": "display_data"
    }
   ],
   "source": [
    "fig = plt.figure()\n",
    "\n",
    "plt.xticks(range(int(x_vals[0]), int(x_vals[-1]) + 1, 1))\n",
    "plt.plot(x_vals, y_vals, label='model')\n",
    "plt.plot(dpts, vals, 'ro', label='sort_arr')\n",
    "\n",
    "plt.legend(loc='lower right')"
   ]
  },
  {
   "cell_type": "code",
   "execution_count": null,
   "id": "6f31c6f0",
   "metadata": {},
   "outputs": [],
   "source": []
  }
 ],
 "metadata": {
  "kernelspec": {
   "display_name": "Python 3",
   "language": "python",
   "name": "python3"
  },
  "language_info": {
   "codemirror_mode": {
    "name": "ipython",
    "version": 3
   },
   "file_extension": ".py",
   "mimetype": "text/x-python",
   "name": "python",
   "nbconvert_exporter": "python",
   "pygments_lexer": "ipython3",
   "version": "3.8.8"
  }
 },
 "nbformat": 4,
 "nbformat_minor": 5
}
